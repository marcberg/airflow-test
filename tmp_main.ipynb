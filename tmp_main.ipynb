{
 "cells": [
  {
   "cell_type": "code",
   "execution_count": 1,
   "metadata": {},
   "outputs": [],
   "source": [
    "import os"
   ]
  },
  {
   "cell_type": "code",
   "execution_count": 2,
   "metadata": {},
   "outputs": [
    {
     "name": "stdout",
     "output_type": "stream",
     "text": [
      "c:\\Users\\marcu\\projects\\airflow-test\\src\n"
     ]
    }
   ],
   "source": [
    "os.chdir('src/')\n",
    "\n",
    "print(os.getcwd())"
   ]
  },
  {
   "cell_type": "code",
   "execution_count": 3,
   "metadata": {},
   "outputs": [],
   "source": [
    "import pandas as pd\n",
    "from sklearn.ensemble import RandomForestClassifier\n",
    "from sklearn.linear_model import LogisticRegression"
   ]
  },
  {
   "cell_type": "code",
   "execution_count": 4,
   "metadata": {},
   "outputs": [
    {
     "name": "stderr",
     "output_type": "stream",
     "text": [
      "c:\\Users\\marcu\\anaconda3\\envs\\venv_airflow_test\\lib\\site-packages\\airflow\\__init__.py:36: RuntimeWarning: Airflow currently can be run on POSIX-compliant Operating Systems. For development, it is regularly tested on fairly modern Linux Distros and recent versions of macOS. On Windows you can run it via WSL2 (Windows Subsystem for Linux 2) or via Linux Containers. The work to add Windows support is tracked via https://github.com/apache/airflow/issues/10388, but it is not a high priority.\n",
      "  warnings.warn(\n",
      "OSError while attempting to symlink the latest log directory\n"
     ]
    },
    {
     "data": {
      "text/html": [
       "<pre style=\"white-space:pre;overflow-x:auto;line-height:normal;font-family:Menlo,'DejaVu Sans Mono',consolas,'Courier New',monospace\"><span style=\"color: #808000; text-decoration-color: #808000; font-weight: bold\">c:\\Users\\marcu\\anaconda3\\envs\\venv_airflow_test\\lib\\site-packages\\airflow\\configuration.py:</span><span style=\"color: #808000; text-decoration-color: #808000; font-weight: bold\">859</span><span style=\"color: #808000; text-decoration-color: #808000; font-weight: bold\"> FutureWarning</span><span style=\"color: #808000; text-decoration-color: #808000\">: section/key </span><span style=\"color: #808000; text-decoration-color: #808000; font-weight: bold\">[</span><span style=\"color: #808000; text-decoration-color: #808000\">core/sql_alchemy_conn</span><span style=\"color: #808000; text-decoration-color: #808000; font-weight: bold\">]</span><span style=\"color: #808000; text-decoration-color: #808000\"> has been deprecated, you should use</span><span style=\"color: #808000; text-decoration-color: #808000; font-weight: bold\">[</span><span style=\"color: #808000; text-decoration-color: #808000\">database/sql_alchemy_conn</span><span style=\"color: #808000; text-decoration-color: #808000; font-weight: bold\">]</span><span style=\"color: #808000; text-decoration-color: #808000\"> instead. Please update your `conf.get*` call to use the new name</span>\n",
       "</pre>\n"
      ],
      "text/plain": [
       "\u001b[1;33mc:\\Users\\marcu\\anaconda3\\envs\\venv_airflow_test\\lib\\site-packages\\airflow\\configuration.py:\u001b[0m\u001b[1;33m859\u001b[0m\u001b[1;33m FutureWarning\u001b[0m\u001b[33m: section/key \u001b[0m\u001b[1;33m[\u001b[0m\u001b[33mcore/sql_alchemy_conn\u001b[0m\u001b[1;33m]\u001b[0m\u001b[33m has been deprecated, you should use\u001b[0m\u001b[1;33m[\u001b[0m\u001b[33mdatabase/sql_alchemy_conn\u001b[0m\u001b[1;33m]\u001b[0m\u001b[33m instead. Please update your `conf.get*` call to use the new name\u001b[0m\n"
      ]
     },
     "metadata": {},
     "output_type": "display_data"
    }
   ],
   "source": [
    "from preprocess.sampling_and_split import downsample_and_split\n",
    "from train.hyperparametertuning import bayesian_hyperparameter_tuning\n",
    "from evaluate.mlflow_log import create_new_experiment\n",
    "from train.train_with_best_params import train_final_model\n",
    "from train.calibration_model import train_calibration_model"
   ]
  },
  {
   "cell_type": "code",
   "execution_count": 5,
   "metadata": {},
   "outputs": [
    {
     "name": "stdout",
     "output_type": "stream",
     "text": [
      "c:\\Users\\marcu\\projects\\airflow-test\n"
     ]
    }
   ],
   "source": [
    "os.chdir('..')\n",
    "\n",
    "print(os.getcwd())"
   ]
  },
  {
   "cell_type": "code",
   "execution_count": 6,
   "metadata": {},
   "outputs": [],
   "source": [
    "df = pd.read_csv('data/creditcard.csv')\n",
    "\n",
    "downsample_and_split(df=df, target=\"Class\")"
   ]
  },
  {
   "cell_type": "code",
   "execution_count": 7,
   "metadata": {},
   "outputs": [],
   "source": [
    "algorithms = {\n",
    "    \"RandomForest\": {\n",
    "        \"algorithm\": RandomForestClassifier(random_state=42),\n",
    "        \"params\": {\n",
    "            \"n_estimators\": (10, 200),\n",
    "            \"max_depth\": (3, 20),\n",
    "            \"min_samples_split\": (2, 10)\n",
    "        }\n",
    "    },\n",
    "    \"LogisticRegression\": {\n",
    "        \"algorithm\": LogisticRegression(random_state=42, max_iter=1000),\n",
    "        \"params\": {\n",
    "            \"C\": (0.1, 10.0, 'log-uniform'),\n",
    "            \"penalty\": ['l2']\n",
    "        }\n",
    "    }\n",
    "}"
   ]
  },
  {
   "cell_type": "code",
   "execution_count": 8,
   "metadata": {},
   "outputs": [
    {
     "data": {
      "text/html": [
       "<pre style=\"white-space:pre;overflow-x:auto;line-height:normal;font-family:Menlo,'DejaVu Sans Mono',consolas,'Courier New',monospace\"><span style=\"color: #808000; text-decoration-color: #808000; font-weight: bold\">c:\\Users\\marcu\\anaconda3\\envs\\venv_airflow_test\\lib\\site-packages\\numpy\\ma\\core.py:</span><span style=\"color: #808000; text-decoration-color: #808000; font-weight: bold\">2846</span><span style=\"color: #808000; text-decoration-color: #808000; font-weight: bold\"> RuntimeWarning</span><span style=\"color: #808000; text-decoration-color: #808000\">: invalid value encountered in cast</span>\n",
       "</pre>\n"
      ],
      "text/plain": [
       "\u001b[1;33mc:\\Users\\marcu\\anaconda3\\envs\\venv_airflow_test\\lib\\site-packages\\numpy\\ma\\core.py:\u001b[0m\u001b[1;33m2846\u001b[0m\u001b[1;33m RuntimeWarning\u001b[0m\u001b[33m: invalid value encountered in cast\u001b[0m\n"
      ]
     },
     "metadata": {},
     "output_type": "display_data"
    }
   ],
   "source": [
    "bayesian_hyperparameter_tuning(algorithms['RandomForest']['algorithm'], algorithms['RandomForest']['params'])\n",
    "bayesian_hyperparameter_tuning(algorithms['LogisticRegression']['algorithm'], algorithms['LogisticRegression']['params'])"
   ]
  },
  {
   "cell_type": "code",
   "execution_count": 9,
   "metadata": {},
   "outputs": [
    {
     "name": "stdout",
     "output_type": "stream",
     "text": [
      "[\u001b[34m2024-11-28T15:56:43.025+0100\u001b[0m] {\u001b[34mcrypto.py:\u001b[0m82} \u001b[33mWARNING\u001b[0m - \u001b[33mempty cryptography key - values will not be stored encrypted.\u001b[0m\n",
      "[\u001b[34m2024-11-28T15:56:43.067+0100\u001b[0m] {\u001b[34mfile_store.py:\u001b[0m332} \u001b[33mWARNING\u001b[0m - \u001b[33mMalformed experiment 'tmp'. Detailed error Yaml file 'C:\\Users\\marcu\\projects\\airflow-test\\mlruns\\tmp\\meta.yaml' does not exist.\u001b[0m\n",
      "Traceback (most recent call last):\n",
      "  File \"c:\\Users\\marcu\\anaconda3\\envs\\venv_airflow_test\\lib\\site-packages\\mlflow\\store\\tracking\\file_store.py\", line 328, in search_experiments\n",
      "    exp = self._get_experiment(exp_id, view_type)\n",
      "  File \"c:\\Users\\marcu\\anaconda3\\envs\\venv_airflow_test\\lib\\site-packages\\mlflow\\store\\tracking\\file_store.py\", line 422, in _get_experiment\n",
      "    meta = FileStore._read_yaml(experiment_dir, FileStore.META_DATA_FILE_NAME)\n",
      "  File \"c:\\Users\\marcu\\anaconda3\\envs\\venv_airflow_test\\lib\\site-packages\\mlflow\\store\\tracking\\file_store.py\", line 1368, in _read_yaml\n",
      "    return _read_helper(root, file_name, attempts_remaining=retries)\n",
      "  File \"c:\\Users\\marcu\\anaconda3\\envs\\venv_airflow_test\\lib\\site-packages\\mlflow\\store\\tracking\\file_store.py\", line 1361, in _read_helper\n",
      "    result = read_yaml(root, file_name)\n",
      "  File \"c:\\Users\\marcu\\anaconda3\\envs\\venv_airflow_test\\lib\\site-packages\\mlflow\\utils\\file_utils.py\", line 310, in read_yaml\n",
      "    raise MissingConfigException(f\"Yaml file '{file_path}' does not exist.\")\n",
      "mlflow.exceptions.MissingConfigException: Yaml file 'C:\\Users\\marcu\\projects\\airflow-test\\mlruns\\tmp\\meta.yaml' does not exist.\n",
      "[\u001b[34m2024-11-28T15:56:43.115+0100\u001b[0m] {\u001b[34mfile_store.py:\u001b[0m332} \u001b[33mWARNING\u001b[0m - \u001b[33mMalformed experiment 'tmp'. Detailed error Yaml file 'C:\\Users\\marcu\\projects\\airflow-test\\mlruns\\tmp\\meta.yaml' does not exist.\u001b[0m\n",
      "Traceback (most recent call last):\n",
      "  File \"c:\\Users\\marcu\\anaconda3\\envs\\venv_airflow_test\\lib\\site-packages\\mlflow\\store\\tracking\\file_store.py\", line 328, in search_experiments\n",
      "    exp = self._get_experiment(exp_id, view_type)\n",
      "  File \"c:\\Users\\marcu\\anaconda3\\envs\\venv_airflow_test\\lib\\site-packages\\mlflow\\store\\tracking\\file_store.py\", line 422, in _get_experiment\n",
      "    meta = FileStore._read_yaml(experiment_dir, FileStore.META_DATA_FILE_NAME)\n",
      "  File \"c:\\Users\\marcu\\anaconda3\\envs\\venv_airflow_test\\lib\\site-packages\\mlflow\\store\\tracking\\file_store.py\", line 1368, in _read_yaml\n",
      "    return _read_helper(root, file_name, attempts_remaining=retries)\n",
      "  File \"c:\\Users\\marcu\\anaconda3\\envs\\venv_airflow_test\\lib\\site-packages\\mlflow\\store\\tracking\\file_store.py\", line 1361, in _read_helper\n",
      "    result = read_yaml(root, file_name)\n",
      "  File \"c:\\Users\\marcu\\anaconda3\\envs\\venv_airflow_test\\lib\\site-packages\\mlflow\\utils\\file_utils.py\", line 310, in read_yaml\n",
      "    raise MissingConfigException(f\"Yaml file '{file_path}' does not exist.\")\n",
      "mlflow.exceptions.MissingConfigException: Yaml file 'C:\\Users\\marcu\\projects\\airflow-test\\mlruns\\tmp\\meta.yaml' does not exist.\n"
     ]
    },
    {
     "name": "stderr",
     "output_type": "stream",
     "text": [
      "2024/11/28 15:56:43 INFO mlflow.tracking.fluent: Experiment with name '20241128_155641_classification' does not exist. Creating a new experiment.\n"
     ]
    }
   ],
   "source": [
    "create_new_experiment(model_type=\"classification\")"
   ]
  },
  {
   "cell_type": "code",
   "execution_count": 10,
   "metadata": {},
   "outputs": [
    {
     "name": "stdout",
     "output_type": "stream",
     "text": [
      "[\u001b[34m2024-11-28T15:56:45.137+0100\u001b[0m] {\u001b[34mfile_store.py:\u001b[0m332} \u001b[33mWARNING\u001b[0m - \u001b[33mMalformed experiment 'tmp'. Detailed error Yaml file 'C:\\Users\\marcu\\projects\\airflow-test\\mlruns\\tmp\\meta.yaml' does not exist.\u001b[0m\n",
      "Traceback (most recent call last):\n",
      "  File \"c:\\Users\\marcu\\anaconda3\\envs\\venv_airflow_test\\lib\\site-packages\\mlflow\\store\\tracking\\file_store.py\", line 328, in search_experiments\n",
      "    exp = self._get_experiment(exp_id, view_type)\n",
      "  File \"c:\\Users\\marcu\\anaconda3\\envs\\venv_airflow_test\\lib\\site-packages\\mlflow\\store\\tracking\\file_store.py\", line 422, in _get_experiment\n",
      "    meta = FileStore._read_yaml(experiment_dir, FileStore.META_DATA_FILE_NAME)\n",
      "  File \"c:\\Users\\marcu\\anaconda3\\envs\\venv_airflow_test\\lib\\site-packages\\mlflow\\store\\tracking\\file_store.py\", line 1368, in _read_yaml\n",
      "    return _read_helper(root, file_name, attempts_remaining=retries)\n",
      "  File \"c:\\Users\\marcu\\anaconda3\\envs\\venv_airflow_test\\lib\\site-packages\\mlflow\\store\\tracking\\file_store.py\", line 1361, in _read_helper\n",
      "    result = read_yaml(root, file_name)\n",
      "  File \"c:\\Users\\marcu\\anaconda3\\envs\\venv_airflow_test\\lib\\site-packages\\mlflow\\utils\\file_utils.py\", line 310, in read_yaml\n",
      "    raise MissingConfigException(f\"Yaml file '{file_path}' does not exist.\")\n",
      "mlflow.exceptions.MissingConfigException: Yaml file 'C:\\Users\\marcu\\projects\\airflow-test\\mlruns\\tmp\\meta.yaml' does not exist.\n"
     ]
    },
    {
     "name": "stderr",
     "output_type": "stream",
     "text": [
      "2024/11/28 15:56:55 WARNING mlflow.models.model: Model logged without a signature and input example. Please set `input_example` parameter when logging the model to auto infer the model signature.\n",
      "Registered model 'RandomForestClassifier' already exists. Creating a new version of this model...\n",
      "Created version '7' of model 'RandomForestClassifier'.\n"
     ]
    },
    {
     "name": "stdout",
     "output_type": "stream",
     "text": [
      "[\u001b[34m2024-11-28T15:56:56.857+0100\u001b[0m] {\u001b[34mfile_store.py:\u001b[0m332} \u001b[33mWARNING\u001b[0m - \u001b[33mMalformed experiment 'tmp'. Detailed error Yaml file 'C:\\Users\\marcu\\projects\\airflow-test\\mlruns\\tmp\\meta.yaml' does not exist.\u001b[0m\n",
      "Traceback (most recent call last):\n",
      "  File \"c:\\Users\\marcu\\anaconda3\\envs\\venv_airflow_test\\lib\\site-packages\\mlflow\\store\\tracking\\file_store.py\", line 328, in search_experiments\n",
      "    exp = self._get_experiment(exp_id, view_type)\n",
      "  File \"c:\\Users\\marcu\\anaconda3\\envs\\venv_airflow_test\\lib\\site-packages\\mlflow\\store\\tracking\\file_store.py\", line 422, in _get_experiment\n",
      "    meta = FileStore._read_yaml(experiment_dir, FileStore.META_DATA_FILE_NAME)\n",
      "  File \"c:\\Users\\marcu\\anaconda3\\envs\\venv_airflow_test\\lib\\site-packages\\mlflow\\store\\tracking\\file_store.py\", line 1368, in _read_yaml\n",
      "    return _read_helper(root, file_name, attempts_remaining=retries)\n",
      "  File \"c:\\Users\\marcu\\anaconda3\\envs\\venv_airflow_test\\lib\\site-packages\\mlflow\\store\\tracking\\file_store.py\", line 1361, in _read_helper\n",
      "    result = read_yaml(root, file_name)\n",
      "  File \"c:\\Users\\marcu\\anaconda3\\envs\\venv_airflow_test\\lib\\site-packages\\mlflow\\utils\\file_utils.py\", line 310, in read_yaml\n",
      "    raise MissingConfigException(f\"Yaml file '{file_path}' does not exist.\")\n",
      "mlflow.exceptions.MissingConfigException: Yaml file 'C:\\Users\\marcu\\projects\\airflow-test\\mlruns\\tmp\\meta.yaml' does not exist.\n"
     ]
    },
    {
     "name": "stderr",
     "output_type": "stream",
     "text": [
      "2024/11/28 15:57:00 WARNING mlflow.models.model: Model logged without a signature and input example. Please set `input_example` parameter when logging the model to auto infer the model signature.\n",
      "Registered model 'LogisticRegression' already exists. Creating a new version of this model...\n",
      "Created version '7' of model 'LogisticRegression'.\n"
     ]
    }
   ],
   "source": [
    "train_final_model(algorithm=algorithms['RandomForest']['algorithm'])\n",
    "train_final_model(algorithm=algorithms['LogisticRegression']['algorithm'])"
   ]
  },
  {
   "cell_type": "code",
   "execution_count": 11,
   "metadata": {},
   "outputs": [
    {
     "name": "stdout",
     "output_type": "stream",
     "text": [
      "[\u001b[34m2024-11-28T15:57:01.596+0100\u001b[0m] {\u001b[34mfile_store.py:\u001b[0m332} \u001b[33mWARNING\u001b[0m - \u001b[33mMalformed experiment 'tmp'. Detailed error Yaml file 'C:\\Users\\marcu\\projects\\airflow-test\\mlruns\\tmp\\meta.yaml' does not exist.\u001b[0m\n",
      "Traceback (most recent call last):\n",
      "  File \"c:\\Users\\marcu\\anaconda3\\envs\\venv_airflow_test\\lib\\site-packages\\mlflow\\store\\tracking\\file_store.py\", line 328, in search_experiments\n",
      "    exp = self._get_experiment(exp_id, view_type)\n",
      "  File \"c:\\Users\\marcu\\anaconda3\\envs\\venv_airflow_test\\lib\\site-packages\\mlflow\\store\\tracking\\file_store.py\", line 422, in _get_experiment\n",
      "    meta = FileStore._read_yaml(experiment_dir, FileStore.META_DATA_FILE_NAME)\n",
      "  File \"c:\\Users\\marcu\\anaconda3\\envs\\venv_airflow_test\\lib\\site-packages\\mlflow\\store\\tracking\\file_store.py\", line 1368, in _read_yaml\n",
      "    return _read_helper(root, file_name, attempts_remaining=retries)\n",
      "  File \"c:\\Users\\marcu\\anaconda3\\envs\\venv_airflow_test\\lib\\site-packages\\mlflow\\store\\tracking\\file_store.py\", line 1361, in _read_helper\n",
      "    result = read_yaml(root, file_name)\n",
      "  File \"c:\\Users\\marcu\\anaconda3\\envs\\venv_airflow_test\\lib\\site-packages\\mlflow\\utils\\file_utils.py\", line 310, in read_yaml\n",
      "    raise MissingConfigException(f\"Yaml file '{file_path}' does not exist.\")\n",
      "mlflow.exceptions.MissingConfigException: Yaml file 'C:\\Users\\marcu\\projects\\airflow-test\\mlruns\\tmp\\meta.yaml' does not exist.\n"
     ]
    },
    {
     "data": {
      "text/html": [
       "<pre style=\"white-space:pre;overflow-x:auto;line-height:normal;font-family:Menlo,'DejaVu Sans Mono',consolas,'Courier New',monospace\"><span style=\"color: #808000; text-decoration-color: #808000; font-weight: bold\">c:\\Users\\marcu\\anaconda3\\envs\\venv_airflow_test\\lib\\site-packages\\keras\\src\\layers\\core\\dense.py:</span><span style=\"color: #808000; text-decoration-color: #808000; font-weight: bold\">87</span><span style=\"color: #808000; text-decoration-color: #808000; font-weight: bold\"> UserWarning</span><span style=\"color: #808000; text-decoration-color: #808000\">: Do not pass an `input_shape`/`input_dim` argument to a layer. When using Sequential models, prefer using an `</span><span style=\"color: #808000; text-decoration-color: #808000; font-weight: bold\">Input(</span><span style=\"color: #808000; text-decoration-color: #808000\">shape</span><span style=\"color: #808000; text-decoration-color: #808000; font-weight: bold\">)</span><span style=\"color: #808000; text-decoration-color: #808000\">` object as the first layer in the model instead.</span>\n",
       "</pre>\n"
      ],
      "text/plain": [
       "\u001b[1;33mc:\\Users\\marcu\\anaconda3\\envs\\venv_airflow_test\\lib\\site-packages\\keras\\src\\layers\\core\\dense.py:\u001b[0m\u001b[1;33m87\u001b[0m\u001b[1;33m UserWarning\u001b[0m\u001b[33m: Do not pass an `input_shape`\u001b[0m\u001b[33m/\u001b[0m\u001b[33m`input_dim` argument to a layer. When using Sequential models, prefer using an `\u001b[0m\u001b[1;33mInput\u001b[0m\u001b[1;33m(\u001b[0m\u001b[33mshape\u001b[0m\u001b[1;33m)\u001b[0m\u001b[33m` object as the first layer in the model instead.\u001b[0m\n"
      ]
     },
     "metadata": {},
     "output_type": "display_data"
    },
    {
     "name": "stdout",
     "output_type": "stream",
     "text": [
      "Epoch 1/20\n",
      "\u001b[1m1870/1870\u001b[0m \u001b[32m━━━━━━━━━━━━━━━━━━━━\u001b[0m\u001b[37m\u001b[0m \u001b[1m5s\u001b[0m 2ms/step - accuracy: 0.9985 - loss: 0.1845 - val_accuracy: 0.9984 - val_loss: 0.0140\n",
      "Epoch 2/20\n",
      "\u001b[1m1870/1870\u001b[0m \u001b[32m━━━━━━━━━━━━━━━━━━━━\u001b[0m\u001b[37m\u001b[0m \u001b[1m4s\u001b[0m 2ms/step - accuracy: 0.9984 - loss: 0.0112 - val_accuracy: 0.9984 - val_loss: 0.0044\n",
      "Epoch 3/20\n",
      "\u001b[1m1870/1870\u001b[0m \u001b[32m━━━━━━━━━━━━━━━━━━━━\u001b[0m\u001b[37m\u001b[0m \u001b[1m4s\u001b[0m 2ms/step - accuracy: 0.9984 - loss: 0.0041 - val_accuracy: 0.9993 - val_loss: 0.0032\n",
      "Epoch 4/20\n",
      "\u001b[1m1870/1870\u001b[0m \u001b[32m━━━━━━━━━━━━━━━━━━━━\u001b[0m\u001b[37m\u001b[0m \u001b[1m4s\u001b[0m 2ms/step - accuracy: 0.9992 - loss: 0.0030 - val_accuracy: 0.9992 - val_loss: 0.0031\n",
      "Epoch 5/20\n",
      "\u001b[1m1870/1870\u001b[0m \u001b[32m━━━━━━━━━━━━━━━━━━━━\u001b[0m\u001b[37m\u001b[0m \u001b[1m4s\u001b[0m 2ms/step - accuracy: 0.9992 - loss: 0.0025 - val_accuracy: 0.9994 - val_loss: 0.0030\n",
      "Epoch 6/20\n",
      "\u001b[1m1870/1870\u001b[0m \u001b[32m━━━━━━━━━━━━━━━━━━━━\u001b[0m\u001b[37m\u001b[0m \u001b[1m5s\u001b[0m 2ms/step - accuracy: 0.9992 - loss: 0.0034 - val_accuracy: 0.9992 - val_loss: 0.0031\n",
      "Epoch 7/20\n",
      "\u001b[1m1870/1870\u001b[0m \u001b[32m━━━━━━━━━━━━━━━━━━━━\u001b[0m\u001b[37m\u001b[0m \u001b[1m4s\u001b[0m 2ms/step - accuracy: 0.9992 - loss: 0.0026 - val_accuracy: 0.9994 - val_loss: 0.0028\n",
      "Epoch 8/20\n",
      "\u001b[1m1870/1870\u001b[0m \u001b[32m━━━━━━━━━━━━━━━━━━━━\u001b[0m\u001b[37m\u001b[0m \u001b[1m4s\u001b[0m 2ms/step - accuracy: 0.9994 - loss: 0.0029 - val_accuracy: 0.9994 - val_loss: 0.0028\n",
      "Epoch 9/20\n",
      "\u001b[1m1870/1870\u001b[0m \u001b[32m━━━━━━━━━━━━━━━━━━━━\u001b[0m\u001b[37m\u001b[0m \u001b[1m4s\u001b[0m 2ms/step - accuracy: 0.9993 - loss: 0.0033 - val_accuracy: 0.9994 - val_loss: 0.0028\n",
      "Epoch 10/20\n",
      "\u001b[1m1870/1870\u001b[0m \u001b[32m━━━━━━━━━━━━━━━━━━━━\u001b[0m\u001b[37m\u001b[0m \u001b[1m4s\u001b[0m 2ms/step - accuracy: 0.9993 - loss: 0.0026 - val_accuracy: 0.9994 - val_loss: 0.0029\n",
      "Epoch 11/20\n",
      "\u001b[1m1870/1870\u001b[0m \u001b[32m━━━━━━━━━━━━━━━━━━━━\u001b[0m\u001b[37m\u001b[0m \u001b[1m4s\u001b[0m 2ms/step - accuracy: 0.9992 - loss: 0.0039 - val_accuracy: 0.9994 - val_loss: 0.0028\n",
      "Epoch 12/20\n",
      "\u001b[1m1870/1870\u001b[0m \u001b[32m━━━━━━━━━━━━━━━━━━━━\u001b[0m\u001b[37m\u001b[0m \u001b[1m4s\u001b[0m 2ms/step - accuracy: 0.9994 - loss: 0.0030 - val_accuracy: 0.9993 - val_loss: 0.0029\n",
      "Epoch 13/20\n",
      "\u001b[1m1870/1870\u001b[0m \u001b[32m━━━━━━━━━━━━━━━━━━━━\u001b[0m\u001b[37m\u001b[0m \u001b[1m4s\u001b[0m 2ms/step - accuracy: 0.9994 - loss: 0.0024 - val_accuracy: 0.9994 - val_loss: 0.0027\n",
      "Epoch 14/20\n",
      "\u001b[1m1870/1870\u001b[0m \u001b[32m━━━━━━━━━━━━━━━━━━━━\u001b[0m\u001b[37m\u001b[0m \u001b[1m4s\u001b[0m 2ms/step - accuracy: 0.9992 - loss: 0.0033 - val_accuracy: 0.9994 - val_loss: 0.0027\n",
      "Epoch 15/20\n",
      "\u001b[1m1870/1870\u001b[0m \u001b[32m━━━━━━━━━━━━━━━━━━━━\u001b[0m\u001b[37m\u001b[0m \u001b[1m4s\u001b[0m 2ms/step - accuracy: 0.9994 - loss: 0.0029 - val_accuracy: 0.9993 - val_loss: 0.0028\n",
      "Epoch 16/20\n",
      "\u001b[1m1870/1870\u001b[0m \u001b[32m━━━━━━━━━━━━━━━━━━━━\u001b[0m\u001b[37m\u001b[0m \u001b[1m4s\u001b[0m 2ms/step - accuracy: 0.9994 - loss: 0.0030 - val_accuracy: 0.9994 - val_loss: 0.0026\n",
      "Epoch 17/20\n",
      "\u001b[1m1870/1870\u001b[0m \u001b[32m━━━━━━━━━━━━━━━━━━━━\u001b[0m\u001b[37m\u001b[0m \u001b[1m4s\u001b[0m 2ms/step - accuracy: 0.9993 - loss: 0.0031 - val_accuracy: 0.9994 - val_loss: 0.0026\n",
      "Epoch 18/20\n",
      "\u001b[1m1870/1870\u001b[0m \u001b[32m━━━━━━━━━━━━━━━━━━━━\u001b[0m\u001b[37m\u001b[0m \u001b[1m4s\u001b[0m 2ms/step - accuracy: 0.9993 - loss: 0.0029 - val_accuracy: 0.9994 - val_loss: 0.0026\n",
      "Epoch 19/20\n",
      "\u001b[1m1870/1870\u001b[0m \u001b[32m━━━━━━━━━━━━━━━━━━━━\u001b[0m\u001b[37m\u001b[0m \u001b[1m4s\u001b[0m 2ms/step - accuracy: 0.9994 - loss: 0.0028 - val_accuracy: 0.9994 - val_loss: 0.0026\n",
      "Epoch 20/20\n",
      "\u001b[1m1870/1870\u001b[0m \u001b[32m━━━━━━━━━━━━━━━━━━━━\u001b[0m\u001b[37m\u001b[0m \u001b[1m4s\u001b[0m 2ms/step - accuracy: 0.9994 - loss: 0.0030 - val_accuracy: 0.9994 - val_loss: 0.0026\n",
      "[\u001b[34m2024-11-28T15:58:26.077+0100\u001b[0m] {\u001b[34mfile_store.py:\u001b[0m332} \u001b[33mWARNING\u001b[0m - \u001b[33mMalformed experiment 'tmp'. Detailed error Yaml file 'C:\\Users\\marcu\\projects\\airflow-test\\mlruns\\tmp\\meta.yaml' does not exist.\u001b[0m\n",
      "Traceback (most recent call last):\n",
      "  File \"c:\\Users\\marcu\\anaconda3\\envs\\venv_airflow_test\\lib\\site-packages\\mlflow\\store\\tracking\\file_store.py\", line 328, in search_experiments\n",
      "    exp = self._get_experiment(exp_id, view_type)\n",
      "  File \"c:\\Users\\marcu\\anaconda3\\envs\\venv_airflow_test\\lib\\site-packages\\mlflow\\store\\tracking\\file_store.py\", line 422, in _get_experiment\n",
      "    meta = FileStore._read_yaml(experiment_dir, FileStore.META_DATA_FILE_NAME)\n",
      "  File \"c:\\Users\\marcu\\anaconda3\\envs\\venv_airflow_test\\lib\\site-packages\\mlflow\\store\\tracking\\file_store.py\", line 1368, in _read_yaml\n",
      "    return _read_helper(root, file_name, attempts_remaining=retries)\n",
      "  File \"c:\\Users\\marcu\\anaconda3\\envs\\venv_airflow_test\\lib\\site-packages\\mlflow\\store\\tracking\\file_store.py\", line 1361, in _read_helper\n",
      "    result = read_yaml(root, file_name)\n",
      "  File \"c:\\Users\\marcu\\anaconda3\\envs\\venv_airflow_test\\lib\\site-packages\\mlflow\\utils\\file_utils.py\", line 310, in read_yaml\n",
      "    raise MissingConfigException(f\"Yaml file '{file_path}' does not exist.\")\n",
      "mlflow.exceptions.MissingConfigException: Yaml file 'C:\\Users\\marcu\\projects\\airflow-test\\mlruns\\tmp\\meta.yaml' does not exist.\n",
      "[\u001b[34m2024-11-28T15:58:26.098+0100\u001b[0m] {\u001b[34mfile_store.py:\u001b[0m332} \u001b[33mWARNING\u001b[0m - \u001b[33mMalformed experiment 'tmp'. Detailed error Yaml file 'C:\\Users\\marcu\\projects\\airflow-test\\mlruns\\tmp\\meta.yaml' does not exist.\u001b[0m\n",
      "Traceback (most recent call last):\n",
      "  File \"c:\\Users\\marcu\\anaconda3\\envs\\venv_airflow_test\\lib\\site-packages\\mlflow\\store\\tracking\\file_store.py\", line 328, in search_experiments\n",
      "    exp = self._get_experiment(exp_id, view_type)\n",
      "  File \"c:\\Users\\marcu\\anaconda3\\envs\\venv_airflow_test\\lib\\site-packages\\mlflow\\store\\tracking\\file_store.py\", line 422, in _get_experiment\n",
      "    meta = FileStore._read_yaml(experiment_dir, FileStore.META_DATA_FILE_NAME)\n",
      "  File \"c:\\Users\\marcu\\anaconda3\\envs\\venv_airflow_test\\lib\\site-packages\\mlflow\\store\\tracking\\file_store.py\", line 1368, in _read_yaml\n",
      "    return _read_helper(root, file_name, attempts_remaining=retries)\n",
      "  File \"c:\\Users\\marcu\\anaconda3\\envs\\venv_airflow_test\\lib\\site-packages\\mlflow\\store\\tracking\\file_store.py\", line 1361, in _read_helper\n",
      "    result = read_yaml(root, file_name)\n",
      "  File \"c:\\Users\\marcu\\anaconda3\\envs\\venv_airflow_test\\lib\\site-packages\\mlflow\\utils\\file_utils.py\", line 310, in read_yaml\n",
      "    raise MissingConfigException(f\"Yaml file '{file_path}' does not exist.\")\n",
      "mlflow.exceptions.MissingConfigException: Yaml file 'C:\\Users\\marcu\\projects\\airflow-test\\mlruns\\tmp\\meta.yaml' does not exist.\n"
     ]
    },
    {
     "name": "stderr",
     "output_type": "stream",
     "text": [
      "2024/11/28 15:58:26 INFO mlflow.tracking.fluent: Experiment with name '20241128_155641_calibration' does not exist. Creating a new experiment.\n"
     ]
    },
    {
     "name": "stdout",
     "output_type": "stream",
     "text": [
      "\u001b[1m1870/1870\u001b[0m \u001b[32m━━━━━━━━━━━━━━━━━━━━\u001b[0m\u001b[37m\u001b[0m \u001b[1m1s\u001b[0m 684us/step\n",
      "\u001b[1m1870/1870\u001b[0m \u001b[32m━━━━━━━━━━━━━━━━━━━━\u001b[0m\u001b[37m\u001b[0m \u001b[1m1s\u001b[0m 626us/step\n"
     ]
    },
    {
     "name": "stderr",
     "output_type": "stream",
     "text": [
      "2024/11/28 15:58:29 WARNING mlflow.tensorflow: You are saving a TensorFlow Core model or Keras model without a signature. Inference with mlflow.pyfunc.spark_udf() will not work unless the model's pyfunc representation accepts pandas DataFrames as inference inputs.\n",
      "2024/11/28 15:58:38 WARNING mlflow.models.model: Model logged without a signature and input example. Please set `input_example` parameter when logging the model to auto infer the model signature.\n"
     ]
    }
   ],
   "source": [
    "train_calibration_model()"
   ]
  },
  {
   "cell_type": "code",
   "execution_count": null,
   "metadata": {},
   "outputs": [],
   "source": []
  }
 ],
 "metadata": {
  "kernelspec": {
   "display_name": "venv_airflow_test",
   "language": "python",
   "name": "python3"
  },
  "language_info": {
   "codemirror_mode": {
    "name": "ipython",
    "version": 3
   },
   "file_extension": ".py",
   "mimetype": "text/x-python",
   "name": "python",
   "nbconvert_exporter": "python",
   "pygments_lexer": "ipython3",
   "version": "3.9.20"
  }
 },
 "nbformat": 4,
 "nbformat_minor": 2
}
